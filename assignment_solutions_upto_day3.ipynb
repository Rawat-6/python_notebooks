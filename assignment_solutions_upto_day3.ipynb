{
 "cells": [
  {
   "cell_type": "markdown",
   "metadata": {},
   "source": [
    "### answer1 - A value remains intact, no change in A's value"
   ]
  },
  {
   "cell_type": "code",
   "execution_count": null,
   "metadata": {},
   "outputs": [],
   "source": [
    "a = 'spam'\n",
    "b = a\n",
    "b = 'strawberry'\n",
    "print(a)"
   ]
  },
  {
   "cell_type": "markdown",
   "metadata": {},
   "source": [
    "### answer2 - A updated as A's reference gets copied"
   ]
  },
  {
   "cell_type": "code",
   "execution_count": null,
   "metadata": {},
   "outputs": [],
   "source": [
    "a = ['spam']\n",
    "b = a\n",
    "b[0] = 'strawberry'\n",
    "print(b)\n",
    "print(a)"
   ]
  },
  {
   "cell_type": "markdown",
   "metadata": {},
   "source": [
    "### answer3- no updation in A's value as a new list is being created by [:] (slicing) and assinging that to B"
   ]
  },
  {
   "cell_type": "code",
   "execution_count": null,
   "metadata": {},
   "outputs": [],
   "source": [
    "a = ['spam']\n",
    "b = a[:]          #index slicing\n",
    "b[0] = 'strawberry'\n",
    "print(a)\n"
   ]
  },
  {
   "cell_type": "markdown",
   "metadata": {},
   "source": [
    "### answer4 - "
   ]
  },
  {
   "cell_type": "code",
   "execution_count": null,
   "metadata": {},
   "outputs": [],
   "source": [
    "print('Hello, {}'.format(input('Enter your name -')))"
   ]
  },
  {
   "cell_type": "markdown",
   "metadata": {},
   "source": [
    "### answer 5-"
   ]
  },
  {
   "cell_type": "code",
   "execution_count": null,
   "metadata": {},
   "outputs": [],
   "source": [
    "room_width = float(input('Enter the width of your room in feet '))\n",
    "room_length = float(input('Enter the length of your room in feet '))\n",
    "print(f'area of your room is {room_width * room_length}')\n"
   ]
  },
  {
   "cell_type": "markdown",
   "metadata": {},
   "source": [
    "### answer 6 -"
   ]
  },
  {
   "cell_type": "code",
   "execution_count": null,
   "metadata": {},
   "outputs": [],
   "source": [
    "numberX = int(input('Enter A Positive Integer'))\n",
    "print(f'Sum of Numbers from 1 to {numberX} is {numberX * (numberX+1)/2}')"
   ]
  },
  {
   "cell_type": "markdown",
   "metadata": {},
   "source": [
    "### answer 7 -"
   ]
  },
  {
   "cell_type": "code",
   "execution_count": null,
   "metadata": {},
   "outputs": [],
   "source": [
    "a = int(input('enter an integer '))\n",
    "b = int(input('enter 1 more '))\n",
    "print(a+b)\n",
    "print(a-b)\n",
    "print(a*b)\n",
    "print(a/b)\n",
    "print(a % b)\n",
    "print(a**b)"
   ]
  },
  {
   "cell_type": "markdown",
   "metadata": {},
   "source": [
    "### answer 8 -"
   ]
  },
  {
   "cell_type": "code",
   "execution_count": null,
   "metadata": {},
   "outputs": [],
   "source": [
    "height_feet=float(input('enter your height in feets '))\n",
    "height_inch=float(input('enter your height in inches '))\n",
    "print(f'your height in cms is {height_feet * 12 * 2.54}')\n",
    "print(f'your height in cms is {height_inch * 2.54}')"
   ]
  },
  {
   "cell_type": "markdown",
   "metadata": {},
   "source": [
    "## Handouts QUIZ - "
   ]
  },
  {
   "cell_type": "code",
   "execution_count": null,
   "metadata": {},
   "outputs": [],
   "source": [
    "reservoir_volume = 4.445e8"
   ]
  },
  {
   "cell_type": "code",
   "execution_count": null,
   "metadata": {},
   "outputs": [],
   "source": [
    "rainfall = 5e6"
   ]
  },
  {
   "cell_type": "code",
   "execution_count": null,
   "metadata": {},
   "outputs": [],
   "source": [
    "rainfall = rainfall - (rainfall*0.1)  #decreasing rainfall by 10%"
   ]
  },
  {
   "cell_type": "code",
   "execution_count": null,
   "metadata": {},
   "outputs": [],
   "source": [
    "reservoir_volume = reservoir_volume + rainfall"
   ]
  },
  {
   "cell_type": "code",
   "execution_count": null,
   "metadata": {},
   "outputs": [],
   "source": [
    "reservoir_volume = reservoir_volume + (reservoir_volume*0.05)  #increasing reservoir_volume by 5%"
   ]
  },
  {
   "cell_type": "code",
   "execution_count": null,
   "metadata": {},
   "outputs": [],
   "source": [
    "reservoir_volume = reservoir_volume - (reservoir_volume*0.05)  #decreasing reservoir_volume by 5%"
   ]
  },
  {
   "cell_type": "code",
   "execution_count": null,
   "metadata": {},
   "outputs": [],
   "source": [
    "reservoir_volume = reservoir_volume - 2.5e5"
   ]
  },
  {
   "cell_type": "code",
   "execution_count": null,
   "metadata": {},
   "outputs": [],
   "source": [
    "print(reservoir_volume)"
   ]
  },
  {
   "cell_type": "markdown",
   "metadata": {},
   "source": [
    "### multiple assingnment"
   ]
  },
  {
   "cell_type": "code",
   "execution_count": null,
   "metadata": {},
   "outputs": [],
   "source": [
    "a,b,c = 1,2,'string'"
   ]
  },
  {
   "cell_type": "code",
   "execution_count": null,
   "metadata": {},
   "outputs": [],
   "source": [
    "print(a,b,c)"
   ]
  },
  {
   "cell_type": "markdown",
   "metadata": {},
   "source": [
    "## Quiz 2"
   ]
  },
  {
   "cell_type": "code",
   "execution_count": null,
   "metadata": {},
   "outputs": [],
   "source": [
    "coconut_count = \"34\""
   ]
  },
  {
   "cell_type": "code",
   "execution_count": null,
   "metadata": {},
   "outputs": [],
   "source": [
    "mango_count = \"15\"\n",
    "tropical_fruit_count = coconut_count + mango_count \n",
    "print(tropical_fruit_count)"
   ]
  },
  {
   "cell_type": "code",
   "execution_count": null,
   "metadata": {},
   "outputs": [],
   "source": [
    "\"don't find a fault ,find a remedy ;anybody can complain"
   ]
  },
  {
   "cell_type": "code",
   "execution_count": null,
   "metadata": {},
   "outputs": [],
   "source": [
    "#correcting \n",
    "ford_quote = \"\\\"don't find a fault ,find a remedy ;anybody can complain\"\n",
    "print(ford_quote)"
   ]
  },
  {
   "cell_type": "code",
   "execution_count": null,
   "metadata": {},
   "outputs": [],
   "source": [
    "username = 'Jack Demmsy'\n",
    "timestamp = '04:50'\n",
    "url = 'http://petshop.com/pets/mammals/cats'"
   ]
  },
  {
   "cell_type": "code",
   "execution_count": null,
   "metadata": {},
   "outputs": [],
   "source": [
    "username +' accessed the site '+url+' at '+timestamp"
   ]
  },
  {
   "cell_type": "code",
   "execution_count": null,
   "metadata": {},
   "outputs": [],
   "source": [
    "len('udacity\\'s mentor')"
   ]
  },
  {
   "cell_type": "code",
   "execution_count": null,
   "metadata": {},
   "outputs": [],
   "source": [
    "len(835) #error"
   ]
  },
  {
   "cell_type": "code",
   "execution_count": null,
   "metadata": {},
   "outputs": [],
   "source": [
    "given_name = 'Charlotte'\n",
    "middle_name = 'Hippopotamus'\n",
    "family_name = 'Turner'\n",
    "name = given_name + ' ' + middle_name + ' ' + family_name\n",
    "name_length = len(given_name[:len(given_name)-1] + middle_name[:len(middle_name)-1] + family_name[:len(family_name)-1] )\n",
    "driving_license_char_limit = 28\n",
    "print(name_length <= driving_license_char_limit)"
   ]
  },
  {
   "cell_type": "code",
   "execution_count": null,
   "metadata": {},
   "outputs": [],
   "source": [
    "print(type('asdf'))\n",
    "print(type(True))\n",
    "\n",
    "print(type(23.4))\n",
    "\n",
    "print(type([1,2,3]))"
   ]
  },
  {
   "cell_type": "code",
   "execution_count": null,
   "metadata": {},
   "outputs": [],
   "source": [
    "type('hippo' * 12)"
   ]
  },
  {
   "cell_type": "code",
   "execution_count": null,
   "metadata": {},
   "outputs": [],
   "source": [
    "'hippo' * 12"
   ]
  },
  {
   "cell_type": "code",
   "execution_count": null,
   "metadata": {},
   "outputs": [],
   "source": [
    "count = int(4.2353)\n",
    "print(count)\n",
    "print(type(count))\n",
    "countX = int(float('21223.23'))\n",
    "countXS = int('1234')\n",
    "print(countX)\n",
    "print(countXS)"
   ]
  },
  {
   "cell_type": "code",
   "execution_count": null,
   "metadata": {},
   "outputs": [],
   "source": [
    "mon_sales = '235'\n",
    "tue_sales = '235'\n",
    "wed_sales = '235'\n",
    "thur_sales = '235'\n",
    "fri_sales = '235'\n",
    "print('this week\\'s total sales:',int(mon_sales)+int(tue_sales)+int(wed_sales)+int(thur_sales)+int(fri_sales))"
   ]
  },
  {
   "cell_type": "markdown",
   "metadata": {},
   "source": [
    "## Assignment -2"
   ]
  },
  {
   "cell_type": "markdown",
   "metadata": {},
   "source": [
    "### answer-9 (given logic)"
   ]
  },
  {
   "cell_type": "code",
   "execution_count": null,
   "metadata": {},
   "outputs": [],
   "source": [
    "x = int(input('Enter x:'))\n",
    "y = int(input('Enter y:'))\n",
    "z = int(input('Enter z:'))\n",
    "min_number = min(x,y,z)\n",
    "max_number = max(x,y,z)\n",
    "in_between = x+y+z - min_number - max_number\n",
    "print('Sorted incresing Order:',min_number,in_between,max_number)\n"
   ]
  },
  {
   "cell_type": "markdown",
   "metadata": {},
   "source": [
    "### answer-9 "
   ]
  },
  {
   "cell_type": "code",
   "execution_count": null,
   "metadata": {},
   "outputs": [],
   "source": [
    "x = int(input('Enter x:'))\n",
    "y = int(input('Enter y:'))\n",
    "z = int(input('Enter z:'))\n",
    "\n",
    "max_num = x\n",
    "if max_num < y:\n",
    "    max_num = y\n",
    "if max_num < z:\n",
    "    max_num = z\n",
    "\n",
    "min_num = x\n",
    "if min_num > y:\n",
    "    min_num = y\n",
    "if min_num > z:\n",
    "    min_num = z\n",
    "    \n",
    "print('Increasing Order: ',min_num,x+y+z-min_num-max_num,max_num)    "
   ]
  },
  {
   "cell_type": "markdown",
   "metadata": {},
   "source": [
    "### answer-9 (aman)"
   ]
  },
  {
   "cell_type": "code",
   "execution_count": null,
   "metadata": {},
   "outputs": [],
   "source": [
    "x = int(input('Enter x:'))\n",
    "y = int(input('Enter y:'))\n",
    "z = int(input('Enter z:'))\n",
    "\n",
    "if x>=y and x>=z:\n",
    "    if y<=z:\n",
    "        print(y,z,x)\n",
    "    else:\n",
    "        print(z,y,x)\n",
    "elif y>=z and y>=x:\n",
    "    if z<=x:\n",
    "        print(z,x,y)\n",
    "    else:\n",
    "        print(x,z,y)\n",
    "else:\n",
    "    if x<=y:\n",
    "        print(x,y,z) \n",
    "    else:\n",
    "        print(y,x,z)"
   ]
  },
  {
   "cell_type": "markdown",
   "metadata": {},
   "source": [
    "### answer-9 (bubble sort)"
   ]
  },
  {
   "cell_type": "code",
   "execution_count": null,
   "metadata": {},
   "outputs": [],
   "source": [
    "# sorting list\n",
    "li = []\n",
    "for num in range(0,3):\n",
    "    x = int(input(f'Enter number {num+1} '))\n",
    "    li.append(x)\n",
    "print('Unsorted:',li)\n",
    "\n",
    "length = len(li)\n",
    "\n",
    "for i in range(0,length-1):\n",
    "    for j in range(0,length-1-i):\n",
    "        if li[j] > li[j+1]:\n",
    "            temp = li[j]               # then swap\n",
    "            li[j] = li[j+1]\n",
    "            li[j+1] = temp\n",
    "print('Sorted( increasing order):',li)\n"
   ]
  },
  {
   "cell_type": "markdown",
   "metadata": {},
   "source": [
    "### answer-10"
   ]
  },
  {
   "cell_type": "code",
   "execution_count": null,
   "metadata": {},
   "outputs": [],
   "source": [
    "# using dictionary\n",
    "my_calender = {'january':31,  # mapping months with days using dictionary\n",
    "              'february':28,  # considering year to be leap\n",
    "              'march':31,\n",
    "              'april':30,\n",
    "              'may':31,\n",
    "              'june':30,\n",
    "              'july':31,\n",
    "              'august':31,\n",
    "              'september':30,\n",
    "              'october':31,\n",
    "              'november':30,\n",
    "              'decemeber':31}\n",
    "while True:\n",
    "    leap = False\n",
    "    month = input('Enter A Month ')\n",
    "    \n",
    "    if month.lower() in my_calender.keys():\n",
    "        \n",
    "        year = int(input('Enter The Year '))\n",
    "        if year%400 == 0 or year%100 != 0 and year%4==0:\n",
    "            leap = True\n",
    "        if leap == True:\n",
    "            my_calender['february'] = 29\n",
    "        print(f'{month} contains {my_calender[month.lower()]} days')\n",
    "        break\n",
    "    else:\n",
    "        continue\n"
   ]
  },
  {
   "cell_type": "markdown",
   "metadata": {},
   "source": [
    "### answer-11"
   ]
  },
  {
   "cell_type": "code",
   "execution_count": null,
   "metadata": {},
   "outputs": [],
   "source": [
    "my_list = []\n",
    "length = 0\n",
    "sumX = 0\n",
    "while True:\n",
    "        if length == 0:\n",
    "            num = int(input('Enter A Number '))\n",
    "            if num == 0:\n",
    "                print('ERROR..! can\\'t find Average of zero')\n",
    "            else:\n",
    "                sumX = sumX + num\n",
    "                length = length + 1\n",
    "        else:\n",
    "            num = int(input('Enter Next Number '))\n",
    "            if num == 0:\n",
    "                break\n",
    "            else:\n",
    "                sumX = sumX + num\n",
    "                length = length + 1\n",
    "if length>0:\n",
    "    print('Average :',sumX/length) \n",
    "               \n"
   ]
  },
  {
   "cell_type": "markdown",
   "metadata": {},
   "source": [
    "### answer-12 ( newton's method )"
   ]
  },
  {
   "cell_type": "code",
   "execution_count": 8,
   "metadata": {},
   "outputs": [
    {
     "name": "stdout",
     "output_type": "stream",
     "text": [
      "Enter X:64\n",
      "8.000001273385879\n"
     ]
    }
   ],
   "source": [
    "x = int(input('Enter X:'))\n",
    "guess = x/2\n",
    "while guess - x**(0.5) >= 0.00001 or guess - x**(0.5) <= -0.00001: #not a good guess\n",
    "    guess = 0.5 * (guess + (x/guess))\n",
    "print(guess)    "
   ]
  },
  {
   "cell_type": "markdown",
   "metadata": {},
   "source": [
    "### answer-13 "
   ]
  },
  {
   "cell_type": "code",
   "execution_count": 11,
   "metadata": {},
   "outputs": [
    {
     "name": "stdout",
     "output_type": "stream",
     "text": [
      "enter the base of the triangle 3\n",
      "enter the height of the triangle 4\n",
      "Hypotenuse is: 5.0\n"
     ]
    }
   ],
   "source": [
    "base = float(input('enter the base of the triangle '))\n",
    "height = float(input('enter the height of the triangle '))\n",
    "def calculate_hypotenuse():\n",
    "    return (base**2 + height**2) ** 0.5\n",
    "print('Hypotenuse is:',calculate_hypotenuse())"
   ]
  },
  {
   "cell_type": "markdown",
   "metadata": {},
   "source": [
    "### answer-14 (Median)"
   ]
  },
  {
   "cell_type": "code",
   "execution_count": 14,
   "metadata": {},
   "outputs": [
    {
     "name": "stdout",
     "output_type": "stream",
     "text": [
      "enter a number 90\n",
      "enter a number 45\n",
      "enter a number 63\n",
      "median is: 63.0\n"
     ]
    }
   ],
   "source": [
    "x = float(input('enter a number '))\n",
    "y = float(input('enter a number '))\n",
    "z = float(input('enter a number '))\n",
    "\n",
    "def calculate_median(one,two,three):\n",
    "    if one>=two and one>=three:\n",
    "        if two>=three:\n",
    "            return three\n",
    "        else:\n",
    "            return three\n",
    "    elif two>=one and two>=three:\n",
    "        if one>=three:\n",
    "            return one\n",
    "        else:\n",
    "            return three\n",
    "    else:\n",
    "        if one>=two:\n",
    "            return one\n",
    "        else:\n",
    "            return two    \n",
    "print('median is:',calculate_median(x,y,z))        "
   ]
  },
  {
   "cell_type": "markdown",
   "metadata": {},
   "source": [
    "### answer-15"
   ]
  },
  {
   "cell_type": "code",
   "execution_count": 17,
   "metadata": {},
   "outputs": [
    {
     "data": {
      "text/plain": [
       "'Hey there I just want to say something....'"
      ]
     },
     "execution_count": 17,
     "metadata": {},
     "output_type": "execute_result"
    }
   ],
   "source": [
    "def capitalize_str(entered_str):\n",
    "    new_str = ''\n",
    "    entered_str = entered_str.capitalize()\n",
    "    for index in range(0,len(entered_str)):\n",
    "        if entered_str[index] == 'i':\n",
    "            if entered_str[index-1:index+2] == ' i ':\n",
    "                new_str += 'I'\n",
    "            else:\n",
    "                new_str += entered_str[index]\n",
    "        else:\n",
    "            new_str += entered_str[index]\n",
    "    return new_str\n",
    "\n",
    "capitalize_str('hey there i just want to say something....')\n"
   ]
  },
  {
   "cell_type": "markdown",
   "metadata": {},
   "source": [
    "### answer-16 (random generating license plate)"
   ]
  },
  {
   "cell_type": "code",
   "execution_count": 18,
   "metadata": {},
   "outputs": [],
   "source": [
    "import random"
   ]
  },
  {
   "cell_type": "code",
   "execution_count": 30,
   "metadata": {
    "scrolled": true
   },
   "outputs": [
    {
     "name": "stdout",
     "output_type": "stream",
     "text": [
      "1138dns\n",
      "3468mur\n",
      "ztt136\n",
      "5082llt\n"
     ]
    }
   ],
   "source": [
    "def generate_license_plate():\n",
    "    if random.randint(1,2) == 1: # generate old license plate 3 letters and 3 numbers\n",
    "        return random.choices(['a','b','c','d','e','f','g','h','i','j','k','l','m','n','o','p','q','r','s',\n",
    "                        't','u','v','w','x','y','z'])[0] + random.choices(['a','b','c','d','e','f','g','h','i','j','k','l','m','n','o','p','q','r','s',\n",
    "                        't','u','v','w','x','y','z'])[0] + random.choices(['a','b','c','d','e','f','g','h','i','j','k','l','m','n','o','p','q','r','s',\n",
    "                        't','u','v','w','x','y','z'])[0] + str(random.choices([0,1,2,3,4,5,6,7,8,9])[0]) + str(random.choices([0,1,2,3,4,5,6,7,8,9])[0])+str(random.choices([0,1,2,3,4,5,6,7,8,9])[0])\n",
    "    else:\n",
    "        return (str(random.choices([0,1,2,3,4,5,6,7,8,9])[0]) +\n",
    "               str(random.choices([0,1,2,3,4,5,6,7,8,9])[0])\n",
    "        +\n",
    "        str(random.choices([0,1,2,3,4,5,6,7,8,9])[0])\n",
    "        +\n",
    "        str(random.choices([0,1,2,3,4,5,6,7,8,9])[0])\n",
    "        +\n",
    "        random.choices(['a','b','c','d','e','f','g','h','i','j','k','l','m','n','o','p','q','r','s',\n",
    "                        't','u','v','w','x','y','z'])[0]\n",
    "        + \n",
    "        random.choices(['a','b','c','d','e','f','g','h','i','j','k','l','m','n','o','p','q','r','s',\n",
    "                        't','u','v','w','x','y','z'])[0]\n",
    "        +\n",
    "        random.choices(['a','b','c','d','e','f','g','h','i','j','k','l','m','n','o','p','q','r','s',\n",
    "                        't','u','v','w','x','y','z'])[0])\n",
    "print(generate_license_plate())    \n",
    "print(generate_license_plate())\n",
    "print(generate_license_plate())\n",
    "print(generate_license_plate())"
   ]
  },
  {
   "cell_type": "markdown",
   "metadata": {},
   "source": [
    "### answer-17"
   ]
  },
  {
   "cell_type": "code",
   "execution_count": 33,
   "metadata": {},
   "outputs": [
    {
     "name": "stdout",
     "output_type": "stream",
     "text": [
      "enter the number to append in list 90.8\n",
      "enter the number to append in list 1.2\n",
      "enter the number to append in list -56\n",
      "enter the number to append in list 2\n",
      "enter the number to append in list 4\n",
      "enter the number to append in list 0\n",
      "4.0\n",
      "2.0\n",
      "-56.0\n",
      "1.2\n",
      "90.8\n"
     ]
    }
   ],
   "source": [
    "num = 1\n",
    "my_list = []\n",
    "while True:\n",
    "    num = float(input('enter the number to append in list '))\n",
    "    if num == 0:\n",
    "        break\n",
    "    my_list.append(num)\n",
    "for index in range(0,len(my_list)):\n",
    "    print(my_list[len(my_list)-index-1])\n"
   ]
  },
  {
   "cell_type": "markdown",
   "metadata": {},
   "source": [
    "### answer-18"
   ]
  },
  {
   "cell_type": "code",
   "execution_count": 41,
   "metadata": {},
   "outputs": [
    {
     "data": {
      "text/plain": [
       "'Lee'"
      ]
     },
     "execution_count": 41,
     "metadata": {},
     "output_type": "execute_result"
    }
   ],
   "source": [
    "schoolName = \"Washington-Lee H.S.\"\n",
    "schoolName[0]   #'W'\n",
    "schoolName[6]  # 'g'\n",
    "schoolName[3:8]  # 'hingt'\n",
    "schoolName[:10]   #'Washington'\n",
    "schoolName[15:]   # H.S.\n",
    "#schoolName[19]    # index out of range\n",
    "len(schoolName)    # 19\n",
    "len(\"\")            # 0\n",
    "schoolName[11:14]"
   ]
  },
  {
   "cell_type": "code",
   "execution_count": 42,
   "metadata": {},
   "outputs": [
    {
     "data": {
      "text/plain": [
       "'e'"
      ]
     },
     "execution_count": 42,
     "metadata": {},
     "output_type": "execute_result"
    }
   ],
   "source": [
    "sample = 'hey there'\n",
    "sample[-1]  # reverse indexing"
   ]
  },
  {
   "cell_type": "code",
   "execution_count": 45,
   "metadata": {
    "scrolled": true
   },
   "outputs": [
    {
     "name": "stdout",
     "output_type": "stream",
     "text": [
      "T\n",
      "q\n",
      "x\n",
      "brown\n",
      "lazy\n",
      "jumps over the lazy dog.\n"
     ]
    }
   ],
   "source": [
    "s = \"The quick brown fox jumps over the lazy dog.\"\n",
    "print(s[0])\n",
    "print(s[4])\n",
    "print(s[18])\n",
    "print(s[10:15])\n",
    "print(s[-9:-5])\n",
    "print(s[-24::1])\n"
   ]
  },
  {
   "cell_type": "code",
   "execution_count": null,
   "metadata": {},
   "outputs": [],
   "source": [
    "for letter in s[::-1]:\n",
    "    print(letter)"
   ]
  },
  {
   "cell_type": "code",
   "execution_count": 53,
   "metadata": {},
   "outputs": [],
   "source": [
    "for letter in s[:]:\n",
    "    print(letter)"
   ]
  },
  {
   "cell_type": "code",
   "execution_count": 55,
   "metadata": {},
   "outputs": [],
   "source": [
    "for letter in s:\n",
    "    print(letter)\n",
    "    "
   ]
  },
  {
   "cell_type": "markdown",
   "metadata": {},
   "source": [
    "### answer-19"
   ]
  },
  {
   "cell_type": "code",
   "execution_count": 65,
   "metadata": {},
   "outputs": [],
   "source": [
    "my_encoding_dict = {'a':'.-',\n",
    "                    'b':'-...',\n",
    "                    'c':'-.-.',\n",
    "                    'd':'-..',\n",
    "                    'e':'.',\n",
    "                    'f':'..-.',\n",
    "                    'g':'--.',\n",
    "                    'h':'....',\n",
    "                    'i':'..',\n",
    "                    'j':'.---',\n",
    "                    'k':'-.-',\n",
    "                    'l':'.-..',\n",
    "                    'm':'--',\n",
    "                    'n':'-.',\n",
    "                    'o':'---',\n",
    "                    'p':'.--.',\n",
    "                    'q':'--.-',\n",
    "                    'r':'.-.',\n",
    "                    's':'...',\n",
    "                    't':'-',\n",
    "                    'u':'..-',\n",
    "                    'v':'...-',\n",
    "                    'w':'.--',\n",
    "                    'x':'-..-',\n",
    "                    'y':'-.--',\n",
    "                    'z':'--..',\n",
    "                    '0':'-----','1':'.----','2':'..---','3':'...--','4':'....-'\n",
    "                    ,'5':'.....','6':'-....','7':'--...','8':'---..','9':'----.'\n",
    "                   }"
   ]
  },
  {
   "cell_type": "code",
   "execution_count": 66,
   "metadata": {},
   "outputs": [
    {
     "name": "stdout",
     "output_type": "stream",
     "text": [
      "Enter A MessageHello, World! 123 #$%\n",
      ".... . .-.. .-.. --- , .-- --- .-. .-.. -.. ! .---- ..--- ...--  #$%\n"
     ]
    }
   ],
   "source": [
    "original_message = input('Enter A Message')\n",
    "encoded_message =''\n",
    "for letter in original_message:\n",
    "    if letter.lower() in ['a','b','c','d','e','f','g','h','i','j','k','l','m','n','o','p','q','r','s',\n",
    "                        't','u','v','w','x','y','z','0','1','2','3','4','5','6','7','8','9']:\n",
    "        encoded_message = encoded_message + my_encoding_dict[letter.lower()] + ' '\n",
    "        \n",
    "    else:\n",
    "        encoded_message += letter\n",
    "print(encoded_message)        "
   ]
  },
  {
   "cell_type": "markdown",
   "metadata": {},
   "source": [
    "### answer-20"
   ]
  },
  {
   "cell_type": "code",
   "execution_count": 68,
   "metadata": {},
   "outputs": [
    {
     "name": "stdout",
     "output_type": "stream",
     "text": [
      "enter a word/line/para...etc.tushar Rawat\n",
      "Contains 9 unique characters\n"
     ]
    }
   ],
   "source": [
    "STR = input('enter a word/line/para...etc.')\n",
    "unique_keys = {}\n",
    "for alpha in STR:\n",
    "    unique_keys[alpha] = 'none'\n",
    "count = 0\n",
    "for keys in unique_keys.keys():\n",
    "    count += 1\n",
    "print(f'Contains {count} unique characters')    "
   ]
  },
  {
   "cell_type": "markdown",
   "metadata": {},
   "source": [
    "### answer-21 - ** repeated quetion 13**"
   ]
  },
  {
   "cell_type": "markdown",
   "metadata": {},
   "source": [
    "### answer-22 --- Didn't get that!!???   :-(("
   ]
  },
  {
   "cell_type": "markdown",
   "metadata": {},
   "source": [
    "### answer-23"
   ]
  },
  {
   "cell_type": "code",
   "execution_count": 82,
   "metadata": {},
   "outputs": [],
   "source": [
    "def isInteger(check_str):\n",
    "    after_filtering_spaces = ''\n",
    "    if len(check_str) == 0:\n",
    "        return False\n",
    "    for char in check_str:\n",
    "        if char == ' ':\n",
    "            continue\n",
    "        else:\n",
    "            after_filtering_spaces += char\n",
    "    try:\n",
    "        int(after_filtering_spaces)\n",
    "    except ValueError:\n",
    "        return False\n",
    "    print(after_filtering_spaces,'   ',int(after_filtering_spaces))\n",
    "    return True"
   ]
  },
  {
   "cell_type": "code",
   "execution_count": 83,
   "metadata": {},
   "outputs": [
    {
     "name": "stdout",
     "output_type": "stream",
     "text": [
      "12345     12345\n",
      "1234590     1234590\n",
      "-123     -123\n",
      "+123567     123567\n",
      "-67323     -67323\n",
      "False\n",
      "False\n"
     ]
    },
    {
     "data": {
      "text/plain": [
       "False"
      ]
     },
     "execution_count": 83,
     "metadata": {},
     "output_type": "execute_result"
    }
   ],
   "source": [
    "isInteger('12345')\n",
    "isInteger(' 123 45 90')\n",
    "isInteger('-123')\n",
    "isInteger('+123 567')\n",
    "isInteger('-67 323')\n",
    "print(isInteger(''))\n",
    "print(isInteger('#asxsa'))\n",
    "isInteger('1.23')"
   ]
  },
  {
   "cell_type": "markdown",
   "metadata": {},
   "source": [
    "### answer-24"
   ]
  },
  {
   "cell_type": "code",
   "execution_count": 91,
   "metadata": {},
   "outputs": [],
   "source": [
    "def check_prime():\n",
    "    num = int(input('Enter A Integer '))\n",
    "    count = 0\n",
    "    for x in range(1,num+1):\n",
    "        if num%x == 0:\n",
    "            count += 1\n",
    "    if count == 2:\n",
    "        return True\n",
    "    else:\n",
    "        return False\n",
    "        "
   ]
  },
  {
   "cell_type": "code",
   "execution_count": 97,
   "metadata": {},
   "outputs": [
    {
     "name": "stdout",
     "output_type": "stream",
     "text": [
      "Enter A Integer 157\n",
      "Prime number\n"
     ]
    }
   ],
   "source": [
    "if check_prime() == False:\n",
    "    print('Not a prime number')\n",
    "else:\n",
    "    print('Prime number')"
   ]
  },
  {
   "cell_type": "markdown",
   "metadata": {},
   "source": [
    "### answer-25 (repeated question similar to question 10 days in a month)"
   ]
  },
  {
   "cell_type": "code",
   "execution_count": 109,
   "metadata": {},
   "outputs": [],
   "source": [
    "def calulate_day_in_month(month,year):\n",
    "    my_calender = {1:31,  # mapping months with days using dictionary\n",
    "              2:28,  # considering year to be non-leap\n",
    "              3:31,\n",
    "              4:30,\n",
    "              5:31,\n",
    "              6:30,\n",
    "              7:31,\n",
    "              8:31,\n",
    "              9:30,\n",
    "              10:31,\n",
    "              11:30,\n",
    "              12:31\n",
    "              }\n",
    "    leap = False\n",
    "    if month in my_calender.keys():\n",
    "        if year%400 == 0 or year%100 != 0 and year%4==0:\n",
    "            leap = True\n",
    "        if leap == True:\n",
    "            my_calender[2] = 29\n",
    "        print(f'{month} contains {my_calender[month]} days')\n",
    "    else:\n",
    "        return 'Wrong input!! Month should be (1-12)'"
   ]
  },
  {
   "cell_type": "code",
   "execution_count": 110,
   "metadata": {},
   "outputs": [
    {
     "data": {
      "text/plain": [
       "'Wrong input!! Month should be (1-12)'"
      ]
     },
     "execution_count": 110,
     "metadata": {},
     "output_type": "execute_result"
    }
   ],
   "source": [
    "calulate_day_in_month(121,2019)"
   ]
  },
  {
   "cell_type": "code",
   "execution_count": 111,
   "metadata": {},
   "outputs": [
    {
     "name": "stdout",
     "output_type": "stream",
     "text": [
      "2 contains 29 days\n"
     ]
    }
   ],
   "source": [
    "calulate_day_in_month(2,2016)"
   ]
  },
  {
   "cell_type": "code",
   "execution_count": 112,
   "metadata": {},
   "outputs": [
    {
     "name": "stdout",
     "output_type": "stream",
     "text": [
      "2 contains 28 days\n"
     ]
    }
   ],
   "source": [
    "calulate_day_in_month(2,2018)"
   ]
  },
  {
   "cell_type": "markdown",
   "metadata": {},
   "source": [
    "## woohhh....that was really tough man..!!! Im exhausted....  ;-("
   ]
  },
  {
   "cell_type": "code",
   "execution_count": null,
   "metadata": {},
   "outputs": [],
   "source": []
  }
 ],
 "metadata": {
  "kernelspec": {
   "display_name": "Python 3",
   "language": "python",
   "name": "python3"
  },
  "language_info": {
   "codemirror_mode": {
    "name": "ipython",
    "version": 3
   },
   "file_extension": ".py",
   "mimetype": "text/x-python",
   "name": "python",
   "nbconvert_exporter": "python",
   "pygments_lexer": "ipython3",
   "version": "3.6.5"
  }
 },
 "nbformat": 4,
 "nbformat_minor": 2
}
